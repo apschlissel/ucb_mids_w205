{
  "nbformat": 4,
  "nbformat_minor": 0,
  "metadata": {
    "kernelspec": {
      "display_name": "Python 3",
      "language": "python",
      "name": "python3"
    },
    "language_info": {
      "codemirror_mode": {
        "name": "ipython",
        "version": 3
      },
      "file_extension": ".py",
      "mimetype": "text/x-python",
      "name": "python",
      "nbconvert_exporter": "python",
      "pygments_lexer": "ipython3",
      "version": "3.7.4"
    },
    "toc": {
      "base_numbering": 1,
      "nav_menu": {},
      "number_sections": false,
      "sideBar": true,
      "skip_h1_title": true,
      "title_cell": "Table of Contents",
      "title_sidebar": "Contents",
      "toc_cell": false,
      "toc_position": {},
      "toc_section_display": true,
      "toc_window_display": false
    },
    "colab": {
      "name": "Allison_Schlissel_project3.ipynb",
      "provenance": [],
      "collapsed_sections": [],
      "include_colab_link": true
    }
  },
  "cells": [
    {
      "cell_type": "markdown",
      "metadata": {
        "id": "view-in-github",
        "colab_type": "text"
      },
      "source": [
        "<a href=\"https://colab.research.google.com/github/apschlissel/ucb_mids_w205/blob/main/Allison_Schlissel_project3.ipynb\" target=\"_parent\"><img src=\"https://colab.research.google.com/assets/colab-badge.svg\" alt=\"Open In Colab\"/></a>"
      ]
    },
    {
      "cell_type": "markdown",
      "metadata": {
        "id": "rWAjdfIsTyhI"
      },
      "source": [
        "# Project 3: Topic Classification using Naive Bayes\n",
        "\n",
        "**Solution**"
      ]
    },
    {
      "cell_type": "markdown",
      "metadata": {
        "id": "p0KwRzrQTyhL"
      },
      "source": [
        "# Intro\n",
        "---\n",
        "In this project, you'll work with text data from newsgroup posts on a variety of topics. You'll train classifiers to distinguish posts by topics inferred from the text. Whereas with digit classification, where each input is relatively **dense** (represented as a 28x28 matrix of pixels, many of which are non-zero), here each document is relatively **sparse** (represented as a **bag-of-words**). Only a few words of the total vocabulary are active in any given document. The assumption is that a label depends only on the count of words, not their order.\n",
        "\n",
        "The `sklearn` documentation on feature extraction may be useful:\n",
        "http://scikit-learn.org/stable/modules/feature_extraction.html\n",
        "\n",
        "Each problem can be addressed succinctly with the included packages -- please don't add any more. Grading will be based on writing clean, commented code, along with a few short answers.\n",
        "\n",
        "As always, you're welcome to work on the project in groups and discuss ideas on Slack, but <b> please prepare your own write-up with your own code. </b>\n",
        "\n",
        "## Grading\n",
        "---\n",
        "- Make sure to answer every part in every question.\n",
        " - There are 7 questions and one extra credit question. \n",
        " - Read carefully what is asked including the notes.\n",
        " - Additional points may be deducted if:\n",
        "   - the code is not clean and well commented, \n",
        "   - and if the functions or answers are too long.\n",
        "\n",
        " ## Requirements:\n",
        "---\n",
        "1. Comment your code.\n",
        "1. All graphs should have titles, label for each axis, and if needed a legend. It should be understandable on its own.\n",
        "1. All code must run on colab.research.google.com\n",
        "1. You should not import any additional libraries.\n",
        "1. Try and minimize the use of the global namespace (meaning keep things in functions).\n",
        "\n"
      ]
    },
    {
      "cell_type": "code",
      "metadata": {
        "id": "QNNjknnZTyhN"
      },
      "source": [
        "# This tells matplotlib not to try opening a new window for each plot.\n",
        "%matplotlib inline\n",
        "\n",
        "# General libraries.\n",
        "import re\n",
        "import numpy as np\n",
        "import pandas as pd\n",
        "import matplotlib.pyplot as plt\n",
        "\n",
        "# SK-learn libraries for learning.\n",
        "from sklearn.pipeline import Pipeline\n",
        "from sklearn.neighbors import KNeighborsClassifier\n",
        "from sklearn.linear_model import LogisticRegression\n",
        "from sklearn.naive_bayes import BernoulliNB\n",
        "from sklearn.naive_bayes import MultinomialNB\n",
        "\n",
        "# SK-learn libraries for evaluation.\n",
        "from sklearn.metrics import confusion_matrix\n",
        "from sklearn import metrics\n",
        "from sklearn.metrics import classification_report\n",
        "\n",
        "# SK-learn library for importing the newsgroup data.\n",
        "from sklearn.datasets import fetch_20newsgroups\n",
        "\n",
        "# SK-learn libraries for feature extraction from text.\n",
        "from sklearn.feature_extraction.text import *\n",
        "\n",
        "import nltk"
      ],
      "execution_count": null,
      "outputs": []
    },
    {
      "cell_type": "markdown",
      "metadata": {
        "id": "orEWeRJaTyhO"
      },
      "source": [
        "Load the data, stripping out metadata so that only textual features will be used, and restricting documents to 4 specific topics. By default, newsgroups data is split into training and test sets, but here the test set gets further split into development and test sets.  (If you remove the categories argument from the fetch function calls, you'd get documents from all 20 topics.)"
      ]
    },
    {
      "cell_type": "code",
      "metadata": {
        "id": "5b9J-D5DTyhP",
        "colab": {
          "base_uri": "https://localhost:8080/"
        },
        "outputId": "69e4a5d4-d1fd-4a9c-cbfd-9decee9ee123"
      },
      "source": [
        "categories = ['alt.atheism', 'talk.religion.misc', 'comp.graphics', 'sci.space']\n",
        "newsgroups_train = fetch_20newsgroups(subset='train',\n",
        "                                      remove=('headers', 'footers', 'quotes'),\n",
        "                                      categories=categories)\n",
        "newsgroups_test  = fetch_20newsgroups(subset='test',\n",
        "                                      remove=('headers', 'footers', 'quotes'),\n",
        "                                      categories=categories)\n",
        "\n",
        "num_test = int(len(newsgroups_test.target) / 2)\n",
        "test_data, test_labels   = newsgroups_test.data[num_test:], newsgroups_test.target[num_test:]\n",
        "dev_data, dev_labels     = newsgroups_test.data[:num_test], newsgroups_test.target[:num_test]\n",
        "train_data, train_labels = newsgroups_train.data, newsgroups_train.target\n",
        "\n",
        "print('training label shape:', train_labels.shape)\n",
        "print('dev label shape:',      dev_labels.shape)\n",
        "print('test label shape:',     test_labels.shape)\n",
        "print('labels names:',         newsgroups_train.target_names)"
      ],
      "execution_count": null,
      "outputs": [
        {
          "output_type": "stream",
          "name": "stderr",
          "text": [
            "Downloading 20news dataset. This may take a few minutes.\n",
            "Downloading dataset from https://ndownloader.figshare.com/files/5975967 (14 MB)\n"
          ]
        },
        {
          "output_type": "stream",
          "name": "stdout",
          "text": [
            "training label shape: (2034,)\n",
            "dev label shape: (676,)\n",
            "test label shape: (677,)\n",
            "labels names: ['alt.atheism', 'comp.graphics', 'sci.space', 'talk.religion.misc']\n"
          ]
        }
      ]
    },
    {
      "cell_type": "markdown",
      "metadata": {
        "id": "zOS6IyT0TyhR"
      },
      "source": [
        "### Question 1: Examining your data\n",
        "---\n",
        "\n",
        " 1. For each of the first 5 training examples, print the text of the message along with the label (checkout newsgroups_train.target_names)."
      ]
    },
    {
      "cell_type": "code",
      "metadata": {
        "id": "LFFUipfaTyhS",
        "colab": {
          "base_uri": "https://localhost:8080/"
        },
        "outputId": "a128d1a3-3f3a-4fc9-b1b5-828883518339"
      },
      "source": [
        "def Q1(num_examples=5):\n",
        "    ### STUDENT START ###\n",
        "    #loop through to get each text and label\n",
        "    for example in range(num_examples):\n",
        "      #get train examples\n",
        "      print('Train example:')\n",
        "      print(train_data[example])\n",
        "      print(' ')\n",
        "      #get train labels\n",
        "      print('Train label:')\n",
        "      #map train example number to list so we can get text instead of number\n",
        "      tl = train_labels[example]\n",
        "      print(newsgroups_train.target_names[tl])\n",
        "      print(' ')\n",
        "    ### STUDENT END ###\n",
        "\n",
        "Q1(5)"
      ],
      "execution_count": null,
      "outputs": [
        {
          "output_type": "stream",
          "name": "stdout",
          "text": [
            "Train example:\n",
            "Hi,\n",
            "\n",
            "I've noticed that if you only save a model (with all your mapping planes\n",
            "positioned carefully) to a .3DS file that when you reload it after restarting\n",
            "3DS, they are given a default position and orientation.  But if you save\n",
            "to a .PRJ file their positions/orientation are preserved.  Does anyone\n",
            "know why this information is not stored in the .3DS file?  Nothing is\n",
            "explicitly said in the manual about saving texture rules in the .PRJ file. \n",
            "I'd like to be able to read the texture rule information, does anyone have \n",
            "the format for the .PRJ file?\n",
            "\n",
            "Is the .CEL file format available from somewhere?\n",
            "\n",
            "Rych\n",
            " \n",
            "Train label:\n",
            "comp.graphics\n",
            " \n",
            "Train example:\n",
            "\n",
            "\n",
            "Seems to be, barring evidence to the contrary, that Koresh was simply\n",
            "another deranged fanatic who thought it neccessary to take a whole bunch of\n",
            "folks with him, children and all, to satisfy his delusional mania. Jim\n",
            "Jones, circa 1993.\n",
            "\n",
            "\n",
            "Nope - fruitcakes like Koresh have been demonstrating such evil corruption\n",
            "for centuries.\n",
            " \n",
            "Train label:\n",
            "talk.religion.misc\n",
            " \n",
            "Train example:\n",
            "\n",
            " >In article <1993Apr19.020359.26996@sq.sq.com>, msb@sq.sq.com (Mark Brader) \n",
            "\n",
            "MB>                                                             So the\n",
            "MB> 1970 figure seems unlikely to actually be anything but a perijove.\n",
            "\n",
            "JG>Sorry, _perijoves_...I'm not used to talking this language.\n",
            "\n",
            "Couldn't we just say periapsis or apoapsis?\n",
            "\n",
            " \n",
            " \n",
            "Train label:\n",
            "sci.space\n",
            " \n",
            "Train example:\n",
            "I have a request for those who would like to see Charley Wingate\n",
            "respond to the \"Charley Challenges\" (and judging from my e-mail, there\n",
            "appear to be quite a few of you.)  \n",
            "\n",
            "It is clear that Mr. Wingate intends to continue to post tangential or\n",
            "unrelated articles while ingoring the Challenges themselves.  Between\n",
            "the last two re-postings of the Challenges, I noted perhaps a dozen or\n",
            "more posts by Mr. Wingate, none of which answered a single Challenge.  \n",
            "\n",
            "It seems unmistakable to me that Mr. Wingate hopes that the questions\n",
            "will just go away, and he is doing his level best to change the\n",
            "subject.  Given that this seems a rather common net.theist tactic, I\n",
            "would like to suggest that we impress upon him our desire for answers,\n",
            "in the following manner:\n",
            "\n",
            "1. Ignore any future articles by Mr. Wingate that do not address the\n",
            "Challenges, until he answers them or explictly announces that he\n",
            "refuses to do so.\n",
            "\n",
            "--or--\n",
            "\n",
            "2. If you must respond to one of his articles, include within it\n",
            "something similar to the following:\n",
            "\n",
            "    \"Please answer the questions posed to you in the Charley Challenges.\"\n",
            "\n",
            "Really, I'm not looking to humiliate anyone here, I just want some\n",
            "honest answers.  You wouldn't think that honesty would be too much to\n",
            "ask from a devout Christian, would you?  \n",
            "\n",
            "Nevermind, that was a rhetorical question.\n",
            " \n",
            "Train label:\n",
            "alt.atheism\n",
            " \n",
            "Train example:\n",
            "AW&ST  had a brief blurb on a Manned Lunar Exploration confernce\n",
            "May 7th  at Crystal City Virginia, under the auspices of AIAA.\n",
            "\n",
            "Does anyone know more about this?  How much, to attend????\n",
            "\n",
            "Anyone want to go?\n",
            " \n",
            "Train label:\n",
            "sci.space\n",
            " \n"
          ]
        }
      ]
    },
    {
      "cell_type": "markdown",
      "metadata": {
        "id": "r53zpu-mTyhU"
      },
      "source": [
        "### Question 2: Text representation\n",
        "---\n",
        "\n",
        "1. Transform the training data into a matrix of **word** unigram feature vectors.\n",
        "  1. What is the size of the vocabulary? \n",
        "  1. What is the average number of non-zero features per example?  \n",
        "  1. What is the fraction of the non-zero entries in the matrix?  \n",
        "  1. What are the 0th and last feature strings (in alphabetical order)?\n",
        "  - _Use `CountVectorization` and its `.fit_transform` method.  Use `.nnz` and `.shape` attributes, and `.get_feature_names` method._\n",
        "1. Now transform the training data into a matrix of **word** unigram feature vectors restricting to the vocabulary with these 4 words: [\"atheism\", \"graphics\", \"space\", \"religion\"].  Confirm the size of the vocabulary. \n",
        "  1. What is the average number of non-zero features per example?\n",
        "  - _Use `CountVectorization(vocabulary=...)` and its `.transform` method._\n",
        "1. Now transform the training data into a matrix of **character** bigram and trigram feature vectors.  \n",
        "  1. What is the size of the vocabulary?\n",
        "  - _Use `CountVectorization(analyzer=..., ngram_range=...)` and its `.fit_transform` method._\n",
        "1. Now transform the training data into a matrix of **word** unigram feature vectors and prune words that appear in fewer than 10 documents.  \n",
        "  1. What is the size of the vocabulary?<br/>\n",
        "  - _Use `CountVectorization(min_df=...)` and its `.fit_transform` method._\n",
        "1. Now again transform the training data into a matrix of **word** unigram feature vectors. \n",
        " 1. What is the fraction of words in the development vocabulary that is missing from the training vocabulary?\n",
        " - _Hint: Build vocabularies for both train and dev and look at the size of the difference._\n",
        "\n",
        "Notes:\n",
        "* `.fit_transform` makes 2 passes through the data: first it computes the vocabulary (\"fit\"), second it converts the raw text into feature vectors using the vocabulary (\"transform\").\n",
        "* `.fit_transform` and `.transform` return sparse matrix objects.  See about them at http://docs.scipy.org/doc/scipy-0.14.0/reference/generated/scipy.sparse.csr_matrix.html. "
      ]
    },
    {
      "cell_type": "code",
      "metadata": {
        "id": "_xkWZwBVTyhV",
        "colab": {
          "base_uri": "https://localhost:8080/"
        },
        "outputId": "4db10b5c-1b97-4455-8c42-d7802874ba34"
      },
      "source": [
        "def Q2():\n",
        "    ### STUDENT START ###\n",
        "\n",
        "    #part 1\n",
        "    def word_unigrams(train_data):\n",
        "      print('Question 1: ')\n",
        "      vectorizer = CountVectorizer()\n",
        "      uni_vect = vectorizer.fit_transform(train_data)\n",
        "      #vocabulary size\n",
        "      print('Vocabulary size:', uni_vect.nnz)\n",
        "      #average number of non-zeros per example\n",
        "      nonzero_rows = np.count_nonzero(uni_vect.toarray(), axis=1)\n",
        "      print('Avg number of non-zeros per example:', np.mean(nonzero_rows))\n",
        "      #fraction of non-zero to total\n",
        "      sparse_shape = uni_vect.get_shape()[0]*uni_vect.get_shape()[1]\n",
        "      print('Fraction of non-zero elements in matrix:', str(uni_vect.nnz)+'/'+str(sparse_shape))\n",
        "      #alphabetical feature strings\n",
        "      vect_names = vectorizer.get_feature_names()\n",
        "      print('First and last feature strings: ', vect_names[0], vect_names[-1])\n",
        "      print('')\n",
        "    \n",
        "    def restricted_vocab(train_data):\n",
        "      print('Question 2:')\n",
        "      #vectorize text with vocab\n",
        "      vectorizer = CountVectorizer(vocabulary=[\"atheism\", \"graphics\", \"space\", \"religion\"])\n",
        "      uni_vect_restricted = vectorizer.fit_transform(train_data)\n",
        "      #average number of non-zeros per example\n",
        "      nonzero_rows = np.count_nonzero(uni_vect_restricted.toarray(), axis=1)\n",
        "      print('Avg number of non-zeros per example:', np.mean(nonzero_rows))\n",
        "      print('')\n",
        "    \n",
        "    def bigrams_trigrams_char(train_data):\n",
        "      print('Question 3:')\n",
        "      #vectorize text, add character & ngram range\n",
        "      vectorizer = CountVectorizer(analyzer='char', ngram_range=(2,3))\n",
        "      vect_bgc = vectorizer.fit_transform(train_data)\n",
        "      #vocabulary size\n",
        "      print('Vocabulary size, character bigrams/trigrams:', vect_bgc.nnz)\n",
        "      print('')\n",
        "    \n",
        "    def frequent_words(train_data):\n",
        "      print('Question 4:')\n",
        "      #vectorize text, prune words w/ less than 10 occurences\n",
        "      vectorizer = CountVectorizer(min_df=10)\n",
        "      uni_vect_min10 = vectorizer.fit_transform(train_data)\n",
        "      print('Size of vocabulary, unigrams greater than 10 occurrences:', uni_vect_min10.nnz)\n",
        "      print('')\n",
        "\n",
        "    def dev_vs_train(train_data, dev_data):\n",
        "      print('Question 5:')\n",
        "      vectorizer = CountVectorizer()\n",
        "      vect_train = vectorizer.fit_transform(train_data)\n",
        "      vect_train_names = vectorizer.get_feature_names()\n",
        "      vect_dev = vectorizer.fit_transform(dev_data)\n",
        "      vect_dev_names = vectorizer.get_feature_names()\n",
        "      new_dev = [name for name in vect_dev_names if name not in vect_train_names]\n",
        "      print('Fraction: ' +  str(len(new_dev)) + '/' + str(len(vect_dev_names)))\n",
        "      print('')\n",
        "\n",
        "\n",
        "    ### STUDENT END ###\n",
        "    word_unigrams(train_data)\n",
        "    restricted_vocab(train_data)\n",
        "    bigrams_trigrams_char(train_data)\n",
        "    frequent_words(train_data)\n",
        "    dev_vs_train(train_data, dev_data)\n",
        "Q2()"
      ],
      "execution_count": null,
      "outputs": [
        {
          "output_type": "stream",
          "name": "stdout",
          "text": [
            "Question 1: \n",
            "Vocabulary size: 196700\n",
            "Avg number of non-zeros per example: 96.70599803343165\n",
            "Fraction of non-zero elements in matrix: 196700/54671886\n",
            "First and last feature strings:  00 zyxel\n",
            "\n",
            "Question 2:\n",
            "Avg number of non-zeros per example: 0.26843657817109146\n",
            "\n",
            "Question 3:\n",
            "Vocabulary size, character bigrams/trigrams: 1391646\n",
            "\n",
            "Question 4:\n",
            "Size of vocabulary, unigrams greater than 10 occurrences: 147823\n",
            "\n",
            "Question 5:\n",
            "Fraction: 4027/16246\n",
            "\n"
          ]
        }
      ]
    },
    {
      "cell_type": "markdown",
      "metadata": {
        "id": "dIaSTL9OTyhX"
      },
      "source": [
        "### Question 3: Initial model evaluation\n",
        "---\n",
        "\n",
        "1. Transform the training and development data to matrices of word unigram feature vectors.\n",
        "1. Produce several k-Nearest Neigbors models by varying k, including one with k set to optimize f1 score.  For each model, show the k value and f1 score. \n",
        "1. Produce several Naive Bayes models by varying smoothing (alpha), including one with alpha set approximately to optimize f1 score.  For each model, show the alpha value and f1 score.\n",
        "1. Produce several Logistic Regression models by varying L2 regularization strength (C), including one with C set approximately to optimize f1 score.  For each model, show the C value, f1 score, and sum of squared weights for each topic.\n",
        "1. Why doesn't k-Nearest Neighbors work well for this problem?\n",
        "1. Why doesn't Logistic Regression work as well as Naive Bayes does?\n",
        "1. What is the relationship between logistic regression's sum of squared weights vs. C value?\n",
        "\n",
        "Notes:\n",
        "* Train on the transformed training data.\n",
        "* Evaluate on the transformed development data.\n",
        "* You can use `CountVectorizer` and its `.fit_transform` and `.transform` methods to transform data.\n",
        "* You can use `KNeighborsClassifier(...)` to produce a k-Nearest Neighbors model.\n",
        "* You can use `MultinomialNB(...)` to produce a Naive Bayes model.\n",
        "* You can use `LogisticRegression(C=..., solver=\"liblinear\", multi_class=\"auto\")` to produce a Logistic Regression model.\n",
        "* You can use `LogisticRegression`'s `.coef_` method to get weights for each topic.\n",
        "* You can use `metrics.f1_score(..., average=\"weighted\")` to compute f1 score."
      ]
    },
    {
      "cell_type": "code",
      "metadata": {
        "scrolled": false,
        "id": "g9JvhGBRTyhX",
        "colab": {
          "base_uri": "https://localhost:8080/"
        },
        "outputId": "4a9afb56-81b0-4a00-cf2c-2b5bf60915fe"
      },
      "source": [
        "def Q3():\n",
        "    ### STUDENT START ###\n",
        "\n",
        "    def knn(train_data, train_labels, dev_data, dev_labels):\n",
        "      \n",
        "      #vectorize & transform text\n",
        "      vectorizer = CountVectorizer()\n",
        "      vtrain = vectorizer.fit_transform(train_data)\n",
        "      vdev = vectorizer.transform(dev_data)\n",
        "\n",
        "      print('KNN Results:')\n",
        "\n",
        "      #knn models\n",
        "      for k in range(1,8,2):\n",
        "        clf = KNeighborsClassifier(n_neighbors=k)\n",
        "        clf.fit(vtrain, train_labels)\n",
        "        preds = clf.predict(vdev)\n",
        "        print('F1, N='+str(k)+':', metrics.f1_score(dev_labels, preds, average=\"weighted\"))\n",
        "      print('')\n",
        "\n",
        "    def naive_bayes(train_data, train_labels, dev_data, dev_labels):\n",
        "\n",
        "      #vectorize & transform text\n",
        "      vectorizer = CountVectorizer()\n",
        "      vtrain = vectorizer.fit_transform(train_data)\n",
        "      vdev = vectorizer.transform(dev_data)\n",
        "\n",
        "      print('Naive Bayes Results:')\n",
        "\n",
        "      #naive bayes models\n",
        "      alphas = [1.0e-10, 0.0001, 0.001, 0.01, 0.1, 0.5, 1.0, 2.0, 10.0]\n",
        "      for a in alphas:\n",
        "        clf = MultinomialNB(alpha=a)\n",
        "        clf.fit(vtrain, train_labels)\n",
        "        preds = clf.predict(vdev)\n",
        "        print('F1, alpha='+str(a)+':', metrics.f1_score(dev_labels, preds, average=\"weighted\"))\n",
        "      print('')\n",
        "    \n",
        "    def logistic_regression(train_data, train_labels, dev_data, dev_labels):\n",
        "\n",
        "      #vectorize & transform text\n",
        "      vectorizer = CountVectorizer()\n",
        "      vtrain = vectorizer.fit_transform(train_data)\n",
        "      vdev = vectorizer.transform(dev_data)\n",
        "\n",
        "      print('Logistic Regression Results:')\n",
        "\n",
        "      c_values = [0.001, 0.01, 0.1, 1, 10, 100, 1000]\n",
        "      for c in c_values:\n",
        "        clf = LogisticRegression(C=c, solver=\"liblinear\", multi_class=\"auto\")\n",
        "        clf.fit(vtrain, train_labels)\n",
        "        preds = clf.predict(vdev)\n",
        "        print('F1, c='+str(c)+':', metrics.f1_score(dev_labels, preds, average=\"weighted\"))\n",
        "        #print('Weights: ', sum(clf.coef_))\n",
        "        importance = clf.coef_\n",
        "        for i, v in enumerate(importance):\n",
        "          print('Class', i, 'score:', sum([x**2 for x in v]))\n",
        "        print('')\n",
        "\n",
        "\n",
        "    knn(train_data, train_labels, dev_data, dev_labels)\n",
        "    naive_bayes(train_data, train_labels, dev_data, dev_labels)\n",
        "    logistic_regression(train_data, train_labels, dev_data, dev_labels)\n",
        "    ### STUDENT END ###\n",
        "Q3()"
      ],
      "execution_count": null,
      "outputs": [
        {
          "output_type": "stream",
          "name": "stdout",
          "text": [
            "KNN Results:\n",
            "F1, N=1: 0.3805030018531525\n",
            "F1, N=3: 0.4084150225437623\n",
            "F1, N=5: 0.4287607236218357\n",
            "F1, N=7: 0.45047910006117586\n",
            "\n",
            "Naive Bayes Results:\n",
            "F1, alpha=1e-10: 0.747240657284563\n",
            "F1, alpha=0.0001: 0.7628348704826354\n",
            "F1, alpha=0.001: 0.7702518836155706\n",
            "F1, alpha=0.01: 0.7751663218544357\n",
            "F1, alpha=0.1: 0.7903052385098862\n",
            "F1, alpha=0.5: 0.7862862961995258\n",
            "F1, alpha=1.0: 0.7777320236017224\n",
            "F1, alpha=2.0: 0.7689966472342658\n",
            "F1, alpha=10.0: 0.6674814338256576\n",
            "\n",
            "Logistic Regression Results:\n",
            "F1, c=0.001: 0.6193046812006844\n",
            "Feature 0 score: 0.16509345166731987\n",
            "Feature 1 score: 0.20095274690581916\n",
            "Feature 2 score: 0.180670937543784\n",
            "Feature 3 score: 0.18724278437848627\n",
            "\n",
            "F1, c=0.01: 0.6646997417582748\n",
            "Feature 0 score: 2.541530980704418\n",
            "Feature 1 score: 2.939709368357306\n",
            "Feature 2 score: 2.862469124420476\n",
            "Feature 3 score: 2.2500292743089343\n",
            "\n",
            "F1, c=0.1: 0.6966243542418833\n",
            "Feature 0 score: 27.132067887249317\n",
            "Feature 1 score: 24.663104303462315\n",
            "Feature 2 score: 27.458463672746262\n",
            "Feature 3 score: 23.024892708745174\n",
            "\n",
            "F1, c=1: 0.6944172871853819\n",
            "Feature 0 score: 166.97926240901995\n",
            "Feature 1 score: 130.93321703713124\n",
            "Feature 2 score: 158.01547070285048\n",
            "Feature 3 score: 145.77551397646502\n",
            "\n",
            "F1, c=10: 0.6865669233056786\n",
            "Feature 0 score: 585.2640372041398\n",
            "Feature 1 score: 448.02967683355337\n",
            "Feature 2 score: 539.6253616201027\n",
            "Feature 3 score: 530.6771698165003\n",
            "\n",
            "F1, c=100: 0.6823892102438561\n",
            "Feature 0 score: 1409.422200780189\n",
            "Feature 1 score: 1082.2959850915995\n",
            "Feature 2 score: 1284.3939948378588\n",
            "Feature 3 score: 1324.12614831222\n",
            "\n",
            "F1, c=1000: 0.6787813199733858\n",
            "Feature 0 score: 1913.5343500063104\n",
            "Feature 1 score: 1927.7773390066952\n",
            "Feature 2 score: 2167.4779527207047\n",
            "Feature 3 score: 2451.453144050343\n",
            "\n"
          ]
        },
        {
          "output_type": "stream",
          "name": "stderr",
          "text": [
            "/usr/local/lib/python3.7/dist-packages/sklearn/svm/_base.py:947: ConvergenceWarning: Liblinear failed to converge, increase the number of iterations.\n",
            "  \"the number of iterations.\", ConvergenceWarning)\n"
          ]
        }
      ]
    },
    {
      "cell_type": "markdown",
      "metadata": {
        "id": "1K9kU5AETyhY"
      },
      "source": [
        "ANSWER: \n",
        "\n",
        "\n",
        "1.   KNN does not work well here because KNN does not do well with high dimensionality data. \n",
        "2.   Logistic Regression does not work as well as Naive Bayes because it is has a tendency to overfit with high dimensional data. Naive Bayes, by treating all features independently, does not have as much of an issue with the curse of dimensionality.\n",
        "\n",
        "3. There is a positive relationship here. As C increases, the sum of the squared weights also increases.\n"
      ]
    },
    {
      "cell_type": "markdown",
      "metadata": {
        "id": "b46HltEPTyhY"
      },
      "source": [
        "### Question 4: Feature exploration\n",
        "---\n",
        "\n",
        "1. Transform the data to a matrix of word **bigram** feature vectors.  Produce a Logistic Regression model.\n",
        "1. For each topic, find the 5 features with the largest weights (not absolute value). If there are no overlaps, you can expect 20 features in total.\n",
        "1. Show a 20 row (features) x 4 column (topics) table of the weights. So, for each of the features (words) found, we show their weight for all topics.\n",
        "1. Do you see any surprising features in this table?\n",
        "\n",
        "Notes:\n",
        "* Train on the transformed training data.\n",
        "* You can use `CountVectorizer` and its `.fit_transform` method to transform data.\n",
        "* You can use `LogisticRegression(C=0.5, solver=\"liblinear\", multi_class=\"auto\")` to produce a Logistic Regression model.\n",
        "* You can use `LogisticRegression`'s `.coef_` method to get weights for each topic.\n",
        "* You can use `np.argsort` to get indices sorted by element value. \n"
      ]
    },
    {
      "cell_type": "code",
      "metadata": {
        "id": "DerfvONsTyha",
        "colab": {
          "base_uri": "https://localhost:8080/"
        },
        "outputId": "c2a12501-bd2b-4fca-f81b-c79aecb48963"
      },
      "source": [
        "def Q4():\n",
        "    ### STUDENT START ###\n",
        "\n",
        "    #vectorize & transform text - bigrams\n",
        "    vectorizer = CountVectorizer(ngram_range=(2,2))\n",
        "    vtrain = vectorizer.fit_transform(train_data)\n",
        "    vdev = vectorizer.transform(dev_data)\n",
        "\n",
        "    #train model\n",
        "    clf = LogisticRegression(C=0.5, solver=\"liblinear\", multi_class=\"auto\")\n",
        "    clf.fit(vtrain, train_labels)\n",
        "    preds = clf.predict(vdev)\n",
        "\n",
        "    #feature importances\n",
        "    importance = clf.coef_\n",
        "    features_idx = []\n",
        "    for i, v in enumerate(importance):\n",
        "      #five most important features\n",
        "      features_idx.append(list(v.argsort()[::-1][:5]))\n",
        "    \n",
        "    features_idx = [y for x in features_idx for y in x]\n",
        "    #dedupe\n",
        "    features_idx = list(set(features_idx))\n",
        "\n",
        "    #get feature names\n",
        "    vect_names = vectorizer.get_feature_names()\n",
        "    feature_names = [vect_names[i] for i in features_idx]\n",
        "    \n",
        "    #get weights for each feature\n",
        "    weights0 = [importance[0][i] for i in features_idx]\n",
        "    weights1 = [importance[1][i] for i in features_idx]\n",
        "    weights2 = [importance[2][i] for i in features_idx]\n",
        "    weights3 = [importance[3][i] for i in features_idx]\n",
        "\n",
        "    #make a dataframe of weights\n",
        "    df = pd.DataFrame(list(zip(weights0, weights1, weights2, weights3)), index=feature_names, \n",
        "                      columns=['alt.atheism', 'comp.graphics', 'sci.space', 'talk.religion.misc'])\n",
        "    \n",
        "\n",
        "    print(df)\n",
        "    ### STUDENT END ###\n",
        "\n",
        "Q4()"
      ],
      "execution_count": null,
      "outputs": [
        {
          "output_type": "stream",
          "name": "stdout",
          "text": [
            "               alt.atheism  comp.graphics  sci.space  talk.religion.misc\n",
            "but he           -0.190019      -0.216871  -0.137402            0.491875\n",
            "comp graphics    -0.292166       0.801208  -0.370885           -0.285186\n",
            "is there         -0.340882       0.754998  -0.468249           -0.257079\n",
            "ignorance is     -0.158011      -0.171075  -0.139580            0.504305\n",
            "in advance       -0.459351       0.832567  -0.438501           -0.418453\n",
            "looking for      -0.630341       1.108375  -0.500050           -0.571869\n",
            "you are           0.472740      -0.279894  -0.481305            0.028373\n",
            "the space        -0.268187      -0.530067   0.871114           -0.273845\n",
            "sci space        -0.258008      -0.329172   0.621087           -0.221245\n",
            "cheers kent       0.555720      -0.697918  -0.663766            0.534808\n",
            "claim that        0.605549      -0.199067  -0.274345           -0.140364\n",
            "out there        -0.274803       0.758658  -0.479057           -0.277089\n",
            "was just          0.482050      -0.131418  -0.128882           -0.227469\n",
            "the fbi          -0.131974      -0.211363  -0.295286            0.551990\n",
            "it was           -0.203029      -0.309687   0.525362           -0.313552\n",
            "and such         -0.204269      -0.337509   0.590524           -0.218202\n",
            "of jesus         -0.091910      -0.173769  -0.212417            0.423755\n",
            "the moon         -0.350563      -0.492747   0.831085           -0.213800\n",
            "are you           0.446953      -0.248257  -0.097135           -0.305625\n"
          ]
        }
      ]
    },
    {
      "cell_type": "markdown",
      "metadata": {
        "id": "odPhAx_yTyhb"
      },
      "source": [
        "ANSWER: I am surprised to see that cheers kent is indicative of both atheism and religion and is there is indicative of graphics."
      ]
    },
    {
      "cell_type": "markdown",
      "metadata": {
        "id": "UNC3BCjUTyhb"
      },
      "source": [
        "### Question 5: Pre-processing for text\n",
        "---\n",
        "\n",
        "To improve generalization, it is common to try preprocessing text in various ways before splitting into words. For example, you could try transforming strings to lower case, replacing sequences of numbers with single tokens, removing various non-letter characters, and shortening long words.\n",
        "\n",
        "1. Produce a Logistic Regression model (with no preprocessing of text). **Note that you may need to override the \"default\" preprocessing with an identity function**. Evaluate and show its f1 score and size of the dictionary.\n",
        "1. Produce an improved Logistic Regression model by preprocessing the text. Evaluate and show its f1 score and size of the vocabulary.  Aim for an improvement in f1 score of 0.02. **Note: this is actually very hard**.\n",
        "1. How much did the improved model reduce the vocabulary size?\n",
        "\n",
        "Notes:\n",
        "* Things you can try: ** ???: Anything else we can suggest** \n",
        " - Look at default pre-processing done.\n",
        " - Removing stop words.\n",
        " - Experiment with different ways of getting rid of apostrophe's such as replacing them with spaces or with empty strings.\n",
        "  - Lower casing.\n",
        "  - Including both lowercase and original case versions of a word.\n",
        "  - nltk functions such as stemming.\n",
        "* Train on the \"transformed\" training data, the data after you applied pre-processing.\n",
        "* Evaluate on the transformed development data. Note that you never want to \"learn\" anything from the dev data.\n",
        "* You can use `CountVectorizer(preprocessor=...)` to preprocess strings with your own custom-defined function.\n",
        "* `CountVectorizer` default is to preprocess strings to lower case.\n",
        "* You can use `LogisticRegression(C=0.5, solver=\"liblinear\", multi_class=\"auto\")` to produce a logistic regression model.\n",
        "* You can use `metrics.f1_score(..., average=\"weighted\")` to compute f1 score.\n",
        "* If you're not already familiar with regular expressions for manipulating strings, see https://docs.python.org/2/library/re.html, and re.sub() in particular.\n",
        "* The order you apply pre-processing may produce different results.\n"
      ]
    },
    {
      "cell_type": "code",
      "metadata": {
        "id": "3lDatbSPTyhb",
        "colab": {
          "base_uri": "https://localhost:8080/"
        },
        "outputId": "73c79def-b855-4724-872b-fd05c860d3de"
      },
      "source": [
        "def Q5():\n",
        "    ### STUDENT START ###\n",
        "    from nltk.corpus import stopwords\n",
        "    nltk.download('stopwords')\n",
        "    from nltk.stem import PorterStemmer\n",
        "    from nltk.tokenize import word_tokenize\n",
        "    nltk.download('punkt')\n",
        "\n",
        "    #first model - no preprocessor\n",
        "\n",
        "    #vectorize & transform text w/o preprocessing\n",
        "    vectorizer_raw = CountVectorizer(preprocessor=(lambda x:x))\n",
        "    vtrain_raw = vectorizer_raw.fit_transform(train_data)\n",
        "    vdev_raw = vectorizer_raw.transform(dev_data)\n",
        "\n",
        "    #first model - no preprocessing\n",
        "    clf = LogisticRegression(C=0.5, solver=\"liblinear\", multi_class=\"auto\")\n",
        "    clf.fit(vtrain_raw, train_labels)\n",
        "    preds = clf.predict(vdev_raw)\n",
        "    print('F1, no preprocessing', metrics.f1_score(dev_labels, preds, average=\"weighted\"))\n",
        "\n",
        "    #second model - preprocessing\n",
        "    #function to remove stopwords & special characters\n",
        "    def preprocess(text):\n",
        "      #remove special characters\n",
        "      text = re.sub('[^A-Za-z0-9.]+', ' ',text)\n",
        "      stop_words = set(stopwords.words('english'))\n",
        "      word_tokens = word_tokenize(text)\n",
        "      #remove stopwords \n",
        "      new_text = [w for w in word_tokens if not w.lower() in stop_words]\n",
        "      return new_text\n",
        "\n",
        "    train_data_preprocessed = [' '.join(preprocess(i)) for i in train_data]\n",
        "    dev_data_preprocessed = [' '.join(preprocess(i)) for i in dev_data]\n",
        "    vectorizer = CountVectorizer()\n",
        "    vtrain = vectorizer.fit_transform(train_data_preprocessed)\n",
        "    vdev = vectorizer.transform(dev_data_preprocessed)\n",
        "\n",
        "    clf.fit(vtrain, train_labels)\n",
        "    preds = clf.predict(vdev)\n",
        "    print('F1, preprocessed', metrics.f1_score(dev_labels, preds, average=\"weighted\"))\n",
        "\n",
        "    ### STUDENT END ###\n",
        "\n",
        "Q5()"
      ],
      "execution_count": null,
      "outputs": [
        {
          "output_type": "stream",
          "name": "stdout",
          "text": [
            "[nltk_data] Downloading package stopwords to /root/nltk_data...\n",
            "[nltk_data]   Unzipping corpora/stopwords.zip.\n",
            "[nltk_data] Downloading package punkt to /root/nltk_data...\n",
            "[nltk_data]   Unzipping tokenizers/punkt.zip.\n",
            "F1, no preprocessing 0.7069109185493502\n",
            "F1, preprocessed 0.7110285778696327\n"
          ]
        }
      ]
    },
    {
      "cell_type": "markdown",
      "metadata": {
        "id": "tLRc7vDBTyhb"
      },
      "source": [
        "### Question 6: L1 and L2 regularization\n",
        "---\n",
        "\n",
        "The idea of regularization is to avoid learning very large weights (which are likely to fit the training data, but not generalize well) by adding a penalty to the total size of the learned weights. Logistic regression seeks the set of weights that minimizes errors in the training data AND has a small total size. The default L2 regularization computes this size as the sum of the squared weights (as in Part 3 above). L1 regularization computes this size as the sum of the absolute values of the weights. Whereas L2 regularization makes all the weights relatively small, **L1 regularization drives many of the weights to 0, effectively removing unimportant features**. For this reason, we can use it as a way to do \"feature selection\".\n",
        "\n",
        "1. For several L1 regularization strengths ...\n",
        "  1. Produce a Logistic Regression model using the **L1** regularization strength.  Reduce the vocabulary to only those features that have at least one non-zero weight among the four categories.\n",
        "  1. Produce a new Logistic Regression model using the reduced vocabulary . For this new model, use an **L2** regularization strength of 0.5.  \n",
        "  1. Evaluate and show the L1 regularization strength, vocabulary size, and f1 score associated with the new model.\n",
        "1. Show a plot of f1 score vs. log vocabulary size.  Each point corresponds to a specific L1 regularization strength used to reduce the vocabulary.\n",
        "1. How does performance of the models based on reduced vocabularies compare to that of a model based on the full vocabulary?\n",
        "\n",
        "Notes:\n",
        "* No need to apply pre-processing from question 5.\n",
        "* Train on the transformed (i.e. CountVectorizer) training data.\n",
        "* Evaluate on the transformed development data (using the CountVectorizer instance you trained on the training data).\n",
        "* You can use `LogisticRegression(..., penalty=\"l1\")` to produce a logistic regression model using L1 regularization.\n",
        "* You can use `LogisticRegression(..., penalty=\"l2\")` to produce a logistic regression model using L2 regularization.\n",
        "* You can use `LogisticRegression(..., tol=0.015)` to produce a logistic regression model using relaxed gradient descent convergence criteria.  The gradient descent code that trains the logistic regression model sometimes has trouble converging with extreme settings of the C parameter. Relax the convergence criteria by setting tol=.015 (the default is .0001).\n",
        "* (solver=\"liblinear\" might be needed for it not to crash)"
      ]
    },
    {
      "cell_type": "code",
      "metadata": {
        "id": "7dva_PsvTyhb",
        "colab": {
          "base_uri": "https://localhost:8080/",
          "height": 941
        },
        "outputId": "bfc43819-3cfd-45bb-b6cc-cefb3cfe924f"
      },
      "source": [
        "def Q6():\n",
        "    # Keep this random seed here to make comparison easier.\n",
        "    np.random.seed(0)\n",
        "    import math\n",
        "\n",
        "    ### STUDENT START ###\n",
        "\n",
        "    #vectorize & transform text - bigrams\n",
        "    vectorizer = CountVectorizer()\n",
        "    vtrain = vectorizer.fit_transform(train_data)\n",
        "    vdev = vectorizer.transform(dev_data)\n",
        "\n",
        "    point_dict = {}\n",
        "    cs = [0.1, 0.5, 1, 10, 100, 1000]\n",
        "\n",
        "    for c in cs:\n",
        "\n",
        "      print('C=', c)\n",
        "      print(' ')\n",
        "\n",
        "      clf_l1 = LogisticRegression(C=c, solver=\"liblinear\", multi_class=\"auto\", penalty=\"l1\")\n",
        "      clf_l1.fit(vtrain, train_labels)\n",
        "      preds_l1 = clf_l1.predict(vdev)\n",
        "      print('F1, L1', metrics.f1_score(dev_labels, preds_l1, average=\"weighted\"))\n",
        "\n",
        "      #feature importances\n",
        "      importance = clf_l1.coef_\n",
        "      importances_list = []\n",
        "      for x in importance:\n",
        "        #only keep indexes that are not zero\n",
        "        res = [idx for idx, val in enumerate(x) if val != 0]\n",
        "        importances_list.append(res)\n",
        "      importances_list = [item for sublist in importances_list for item in sublist]\n",
        "      importances_list = list(set(importances_list))\n",
        "      \n",
        "      #remove all features not in that index list\n",
        "      vect_names = vectorizer.get_feature_names()\n",
        "      feature_names = [vect_names[i] for i in importances_list]\n",
        "\n",
        "      def remove_features(text, feature_names):\n",
        "        word_tokens = nltk.tokenize.word_tokenize(text)\n",
        "        #remove zero features\n",
        "        new_text = [w for w in word_tokens if w.lower() in feature_names]\n",
        "        return new_text\n",
        "\n",
        "      train_data_preprocessed = [' '.join(remove_features(i, feature_names)) for i in train_data]\n",
        "      dev_data_preprocessed = [' '.join(remove_features(i, feature_names)) for i in dev_data]\n",
        "      vectorizer = CountVectorizer()\n",
        "      vtrain = vectorizer.fit_transform(train_data_preprocessed)\n",
        "      vdev = vectorizer.transform(dev_data_preprocessed)\n",
        "\n",
        "      #L2 classification\n",
        "      clf_l2 = LogisticRegression(C=c, solver=\"liblinear\", multi_class=\"auto\", penalty=\"l2\")\n",
        "      clf_l2.fit(vtrain, train_labels)\n",
        "      preds_l2 = clf_l2.predict(vdev)\n",
        "      print('Feature count:', len(feature_names))\n",
        "      print('F1, L2', metrics.f1_score(dev_labels, preds_l2, average=\"weighted\"))\n",
        "      print('')\n",
        "\n",
        "      def ln(x):\n",
        "        n = 1000.0\n",
        "        return n * ((x ** (1/n)) - 1)\n",
        "\n",
        "      log_len = ln(len(feature_names))\n",
        "\n",
        "      point_dict[log_len] = metrics.f1_score(dev_labels, preds_l2, average=\"weighted\")\n",
        "\n",
        "    lists = sorted(point_dict.items())\n",
        "\n",
        "    x, y = zip(*lists)\n",
        "\n",
        "    plt.plot(x,y)\n",
        "    plt.title('F1 by Feature Counts')\n",
        "    plt.xlabel('Features (log)')\n",
        "    plt.ylabel('F1')\n",
        "    plt.show()\n",
        "\n",
        "    #relaxed gradient descent\n",
        "    #clf_gd = LogisticRegression(C=c, solver=\"liblinear\", multi_class=\"auto\", penalty=\"l1\", tol=0.015)\n",
        "    #clf_gd.fit(vtrain, train_labels)\n",
        "    #preds_gd = clf_gd.predict(vdev)\n",
        "    #print('F1, gradient descent', metrics.f1_score(dev_labels, preds_gd, average=\"weighted\"))\n",
        "    #print(' ')\n",
        "\n",
        "\n",
        "    ### STUDENT END ###\n",
        "\n",
        "Q6()"
      ],
      "execution_count": null,
      "outputs": [
        {
          "output_type": "stream",
          "name": "stdout",
          "text": [
            "C= 0.1\n",
            " \n",
            "F1, L1 0.6304940569804534\n",
            "Feature count: 206\n",
            "F1, L2 0.658213903329271\n",
            "\n",
            "C= 0.5\n",
            " \n",
            "F1, L1 0.6553439768204621\n",
            "Feature count: 197\n",
            "F1, L2 0.6690117845800381\n",
            "\n",
            "C= 1\n",
            " \n",
            "F1, L1 0.6575032470296343\n",
            "Feature count: 197\n",
            "F1, L2 0.6654651509378083\n",
            "\n",
            "C= 10\n",
            " \n"
          ]
        },
        {
          "output_type": "stream",
          "name": "stderr",
          "text": [
            "/usr/local/lib/python3.7/dist-packages/sklearn/svm/_base.py:947: ConvergenceWarning: Liblinear failed to converge, increase the number of iterations.\n",
            "  \"the number of iterations.\", ConvergenceWarning)\n"
          ]
        },
        {
          "output_type": "stream",
          "name": "stdout",
          "text": [
            "F1, L1 0.6679166548336335\n",
            "Feature count: 197\n",
            "F1, L2 0.6772817178581869\n",
            "\n",
            "C= 100\n",
            " \n",
            "F1, L1 0.6628772806657031\n",
            "Feature count: 197\n",
            "F1, L2 0.6698713704683289\n",
            "\n",
            "C= 1000\n",
            " \n",
            "F1, L1 0.6698592468676031\n",
            "Feature count: 197\n",
            "F1, L2 0.6503537476245919\n",
            "\n"
          ]
        },
        {
          "output_type": "display_data",
          "data": {
            "image/png": "[encoded data removed]",
            "text/plain": [
              "<Figure size 432x288 with 1 Axes>"
            ]
          },
          "metadata": {
            "needs_background": "light"
          }
        }
      ]
    },
    {
      "cell_type": "markdown",
      "metadata": {
        "id": "XbrmPrLaTyhc"
      },
      "source": [
        "ANSWER: It appears that a lower number of features do correspond with higher model performance to a certain degree. However, in this particular instance th difference is not particularly material."
      ]
    },
    {
      "cell_type": "markdown",
      "metadata": {
        "id": "AQJQimS8Tyhd"
      },
      "source": [
        "### Question 7: TfIdf\n",
        "---\n",
        "As you may recall [tf-idf](https://en.wikipedia.org/wiki/Tf%E2%80%93idf) stands for *term frequency inverse document frequency* and is a way to assign a weight to each word or token signifying their importance for a document in a corpus (a collection of documents).\n",
        "\n",
        "Produce a Logistic Regression model based on data represented in tf-idf form, with L2 regularization strength of 100.  Evaluate and show the f1 score.  How is `TfidfVectorizer` different than `CountVectorizer`?\n",
        "\n",
        "1. How is `TfidfVectorizer` different than `CountVectorizer`?\n",
        "1. Show the 3 documents with highest R ratio, where ...\n",
        "  - $R\\,ratio = maximum\\,predicted\\,probability \\div predicted\\,probability\\,of\\,correct\\,label$\n",
        "1. Explain what the R ratio describes.\n",
        "1. What kinds of mistakes is the model making? Suggest a way to address one particular issue that you see.\n",
        "\n",
        "Note:\n",
        "* Train on the transformed training data.\n",
        "* Evaluate on the transformed development data.\n",
        "* You can use `TfidfVectorizer` and its `.fit_transform` method to transform data to tf-idf form.\n",
        "* You can use `LogisticRegression(C=100, solver=\"liblinear\", multi_class=\"auto\")` to produce a logistic regression model.\n",
        "* You can use `LogisticRegression`'s `.predict_proba` method to access predicted probabilities."
      ]
    },
    {
      "cell_type": "code",
      "metadata": {
        "id": "Llsrh11LTyhd",
        "colab": {
          "base_uri": "https://localhost:8080/"
        },
        "outputId": "84335172-bf86-4d88-e6b1-c88a4c070108"
      },
      "source": [
        "def Q7():\n",
        "    ### STUDENT START ###\n",
        "\n",
        "      #vectorize & transform text\n",
        "      vectorizer = TfidfVectorizer()\n",
        "      vtrain = vectorizer.fit_transform(train_data)\n",
        "      vdev = vectorizer.transform(dev_data)\n",
        "\n",
        "      clf = LogisticRegression(C=100, solver=\"liblinear\", multi_class=\"auto\")\n",
        "      clf.fit(vtrain, train_labels)\n",
        "      preds = clf.predict(vdev)\n",
        "      print('F1', metrics.f1_score(dev_labels, preds, average=\"weighted\"))\n",
        "      probas = clf.predict_proba(vdev)\n",
        "      probas_list = probas.tolist()\n",
        "      dev_labels_list = dev_labels.tolist()\n",
        "\n",
        "      max_dict = {}\n",
        "\n",
        "      for i in range(len(probas_list)):\n",
        "        if probas_list[i].index(max(probas_list[i])) != dev_labels[i]:\n",
        "          r_ratio = max(probas_list[i]) / probas_list[i][dev_labels[i]]\n",
        "          max_dict[i] = r_ratio\n",
        "\n",
        "      my_keys = sorted(max_dict, key=max_dict.get, reverse=True)[:3]\n",
        "      for k in list(my_keys):\n",
        "        print(dev_data[k])\n",
        "        print('')\n",
        "      \n",
        "    ### STUDENT END ###\n",
        "\n",
        "Q7()"
      ],
      "execution_count": null,
      "outputs": [
        {
          "output_type": "stream",
          "name": "stdout",
          "text": [
            "F1 0.7597662427853104\n",
            "I am pleased to announce that a *revised version* of _The Easy-to-Read Book\n",
            "of Mormon_ (former title: _Mormon's Book_) by Lynn Matthews Anderson is now\n",
            "available through anonymous ftp (see information below). In addition to the\n",
            "change in title, the revised ETR BOM has been shortened by several pages\n",
            "(eliminating many extraneous \"that's\" and \"of's\"), and many (minor) errors\n",
            "have been corrected. This release includes a simplified Joseph Smith Story,\n",
            "testimonies of the three and eight witnesses, and a \"Words-to-Know\"\n",
            "glossary.\n",
            "\n",
            "As with the previous announcement, readers are reminded that this is a\n",
            "not-for-profit endeavor. This is a copyrighted work, but people are welcome\n",
            "to make *verbatim* copies for personal use. People can recuperate the\n",
            "actual costs of printing (paper, copy center charges), but may not charge\n",
            "anything for their time in making copies, or in any way realize a profit\n",
            "from the use of this book. See the permissions notice in the book itself\n",
            "for the precise terms.\n",
            "\n",
            "Negotiations are currently underway with a Mormon publisher vis-a-vis the\n",
            "printing and distribution of bound books. (Sorry, I'm out of the wire-bound\n",
            "\"first editions.\") I will make another announcement about the availability\n",
            "of printed copies once everything has been worked out.\n",
            "\n",
            "FTP information: connect via anonymous ftp to carnot.itc.cmu.edu, then \"cd\n",
            "pub\" (you won't see anything at all until you do).\n",
            "\n",
            "\"The Easy-to-Read Book of Mormon\" is currently available in postscript and\n",
            "RTF (rich text format). (ASCII, LaTeX, and other versions can be made\n",
            "available; contact dba@andrew.cmu.edu for details.) You should be able to\n",
            "print the postscript file on any postscript printer (such as an Apple\n",
            "Laserwriter); let dba know if you have any difficulties. (The postscript in\n",
            "the last release had problems on some printers; this time it should work\n",
            "better.) RTF is a standard document interchange format that can be read in\n",
            "by a number of word processors, including Microsoft Word for both the\n",
            "Macintosh and Windows. If you don't have a postscript printer, you may be\n",
            "able to use the RTF file to print out a copy of the book.\n",
            "\n",
            "-r--r--r--  1 dba                   1984742 Apr 27 13:12 etrbom.ps\n",
            "-r--r--r--  1 dba                   1209071 Apr 27 13:13 etrbom.rtf\n",
            "\n",
            "For more information about how this project came about, please refer to my\n",
            "article in the current issue of _Sunstone_, entitled \"Delighting in\n",
            "Plainness: Issues Surrounding a Simple Modern English Book of Mormon.\"\n",
            "\n",
            "Send all inquiries and comments to:\n",
            "\n",
            "    Lynn Matthews Anderson\n",
            "    5806 Hampton Street\n",
            "    Pittsburgh, PA 15206\n",
            "\n",
            "Can anyone provide me a ftp site where I can obtain a online version\n",
            "of the Book of Mormon. Please email the internet address if possible.\n",
            "\n",
            "\n",
            "The 24 children were, of course, killed by a lone gunman in a second story\n",
            "window, who fired eight bullets in the space of two seconds...\n",
            "\n",
            "\n"
          ]
        }
      ]
    },
    {
      "cell_type": "markdown",
      "metadata": {
        "id": "w7SnJ7mTTyhe"
      },
      "source": [
        "ANSWER: 1) CountVectorizer simply counts the frequency that a feature appears in a document. TFIDF stands for term frequency - inverse document frequency. This penalizes more common words (for example, stopwords) and very rare words in the corpus. Thus, the higher scored features indicate more significance. \n",
        "3) The R ratio demonstrates how wrong the model was with the incorrect guesses. \n",
        "4) The model is making mistakes distinguishing between the athiest category and the religion category. I would try to give more training data distinguishing between athiest text and religious text."
      ]
    },
    {
      "cell_type": "markdown",
      "metadata": {
        "id": "NpVdIUwNcJIi"
      },
      "source": [
        ""
      ]
    },
    {
      "cell_type": "markdown",
      "metadata": {
        "id": "Smtoa6tHTyhf"
      },
      "source": [
        "### Question 8 EXTRA CREDIT:\n",
        "---\n",
        "Produce a Logistic Regression model to implement your suggestion from Part 7."
      ]
    },
    {
      "cell_type": "code",
      "metadata": {
        "id": "uCLc-do1Tyhf"
      },
      "source": [
        ""
      ],
      "execution_count": null,
      "outputs": []
    }
  ]
}
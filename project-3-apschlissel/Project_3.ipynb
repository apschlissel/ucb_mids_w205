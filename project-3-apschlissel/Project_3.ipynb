{
 "cells": [
  {
   "cell_type": "markdown",
   "metadata": {},
   "source": [
    "# Understanding User Behavior\n",
    "Author: Allison Schlissel\n",
    "\n",
    "As a Data Scientist at a game development company, I am interested in better understanding two important game features: buying a sword and joining a guild. \n",
    "\n",
    "### Questions\n",
    "1. How many distinct time stamps are there here?\n",
    "2. What are the unique event types present?\n",
    "3. How many sword sizes are there?"
   ]
  },
  {
   "cell_type": "markdown",
   "metadata": {},
   "source": [
    "## Commands\n",
    "\n",
    "### Week 12\n",
    "\n",
    "#### change directories\n",
    "cd w205/project-3-apschlissel/\n",
    "\n",
    "#### make sure working directory is clean\n",
    "ls -lh\n",
    "\n",
    "#### check git branch & commits\n",
    "git status\n",
    "\n",
    "#### create branch & go to branch\n",
    "git checkout -b assignment\n",
    "\n",
    "#### go up a directory\n",
    "cd ..\n",
    "\n",
    "#### copy the yml\n",
    "cp ~/w205/course-content/12-Querying-Data-II/docker-compose.yml .\n",
    "\n",
    "#### bring up the container\n",
    "docker-compose up -d\n",
    "\n",
    "#### check everything looks good & no stray containers\n",
    "docker ps -a <br>\n",
    "docker network ls\n",
    "\n",
    "#### create topic events\n",
    "docker-compose exec kafka kafka-topics --create --topic events --partitions 1 --replication-factor 1 --if-not-exists --zookeeper zookeeper:32181\n",
    "\n",
    "#### copy the querying data & edit file in python\n",
    "cp ~/w205/course-content/12-Querying-Data-II/*.py .\n",
    "\n",
    "#### flask server\n",
    "docker-compose exec mids env FLASK_APP=/w205/project-3-apschlissel/game_api.py flask run --host 0.0.0.0\n",
    "\n",
    "#### start spark\n",
    "docker-compose exec spark bash\n",
    "\n",
    "#### create symbolic link\n",
    "ln -s /w205 w205\n",
    "\n",
    "#### get the notebook going\n",
    "docker-compose exec spark env PYSPARK_DRIVER_PYTHON=jupyter PYSPARK_DRIVER_PYTHON_OPTS='notebook --no-browser --port 8888 --ip 0.0.0.0 --allow-root' pyspark\n",
    "\n",
    "#### copy ip address into link\n",
    "http://34.83.94.83/:8888/?token=7cdf712791379617ad5c10876f941c9a413a13b1891f6aeb\n",
    "\n",
    "#### create & run apache bench commands to buy a sword & purchase sword\n",
    "docker-compose exec mids ab -n 10 -H \"Host: user1.comcast.com\" http://localhost:5000/\n",
    "\n",
    "docker-compose exec mids ab -n 10 -H \"Host: user1.comcast.com\" http://localhost:5000/purchase_a_sword\n",
    "\n",
    "docker-compose exec mids ab -n 10 -H \"Host: user2.att.com\" http://localhost:5000/\n",
    "\n",
    "docker-compose exec mids ab -n 10 -H \"Host: user2.att.com\" http://localhost:5000/purchase_a_sword\n",
    "\n",
    "docker-compose exec mids ab -n 10 -H \"Host: user2.att.com\" http://localhost:5000/buy_a_sword\n",
    "\n",
    "docker-compose exec mids ab -n 10 -H \"Host: user1.att.com\" http://localhost:5000/buy_a_sword\n",
    "\n",
    "docker-compose exec mids ab -n 10 -H \"Host: user2.att.com\" http://localhost:5000/join_guild\n",
    "\n",
    "docker-compose exec mids ab -n 10 -H \"Host: user1.att.com\" http://localhost:5000/join_guild\n",
    "\n",
    "#### shut down cluster\n",
    "docker-compose down\n",
    "\n",
    "### Week 13\n",
    "\n",
    "#### copy week 13 yml\n",
    "cp ~/w205/course-content/13-Understanding-Data/docker-compose.yml .\n",
    "\n",
    "#### check files/directories \n",
    "ls -lh\n",
    "\n",
    "#### check docker containers\n",
    "docker ps -a\n",
    "\n",
    "#### bring up cluster\n",
    "docker-compose up -d\n",
    "\n",
    "#### check cluster is up\n",
    "docker-compose ps\n",
    "docker ps -a\n",
    "docker network ls\n",
    "\n",
    "#### create topic events\n",
    "docker-compose exec kafka kafka-topics --create --topic events --partitions 1 --replication-factor 1 --if-not-exists --zookeeper zookeeper:32181\n",
    "\n",
    "#### start up flask\n",
    "docker-compose exec mids env FLASK_APP=/w205/project-3-apschlissel/game_api.py flask run --host 0.0.0.0\n",
    "\n",
    "#### go into spark shell to create symbolic link\n",
    "docker-compose exec spark bash\n",
    "ln -s /w205 w205\n",
    "exit\n",
    "\n",
    "#### create jupyter notebook w/in pyspark kernel\n",
    "docker-compose exec spark env PYSPARK_DRIVER_PYTHON=jupyter PYSPARK_DRIVER_PYTHON_OPTS='notebook --no-browser --port 8888 --ip 0.0.0.0 --allow-root' pyspark\n",
    "\n",
    "#### copy url, get ip address, open into incognito tab\n",
    "http://34.83.94.83:8888/?token=67d58e32a81b86cec7c7571dfa5d91f5aecf2eee887e7329\n",
    "\n",
    "#### stream queue\n",
    "while true; do docker-compose exec mids ab -n 10 -H \"Host: user1.comcast.com\" http://localhost:5000/purchase_a_sword; sleep 5; done\n",
    "\n",
    "#### run hive\n",
    "docker-compose exec cloudera hive\n",
    "\n",
    "#### create table, make sure to modify correctly\n",
    "create external table if not exists default.sword_purchases (Accept string, Host string, `User-Agent` string, event_type string, sword_size string, timestamp string) stored as parquet location '/tmp/sword_purchases'  tblproperties (\"parquet.compress\"=\"SNAPPY\");\n",
    "\n",
    "#### print the table using hive\n",
    "select * from sword_purchases limit 5;\n",
    "\n",
    "#### exit hive\n",
    "exit()\n",
    "\n",
    "#### start up presto\n",
    "docker-compose exec presto presto --server presto:8080 --catalog hive --schema default\n",
    "\n",
    "#### show the tables\n",
    "show tables;\n",
    "select * from sword_purchases;\n",
    "select host from sword_purchases;\n",
    "show tables sword_purchases;\n",
    "#desc=describe\n",
    "desc sword_purchases;\n",
    "\n",
    "#### sink stop\n",
    "sink.stop()\n",
    "\n",
    "#### tear down cluster\n",
    "docker-compose down\n",
    "\n",
    "\n",
    "#### business questions:\n",
    "###### as mentioned in the slack channe & videol, the columns are jumbled. I chose to go ahead and use the wrongly named columns \n",
    "1) How many distinct time stamps are there here? <br>\n",
    "select count(distinct(host)) from sword_purchases;\n",
    "- 3790 unique time stamps at this point\n",
    "\n",
    "2) What are the unique event types present? <br>\n",
    "select distinct(sword_size) from sword_purchases;\n",
    "- Only purchase sword\n",
    "\n",
    "3) How many sword sizes are there? <br>\n",
    "select distinct(timestamp) from sword_purchases;\n",
    "- Only large"
   ]
  },
  {
   "cell_type": "code",
   "execution_count": 50,
   "metadata": {
    "collapsed": true
   },
   "outputs": [],
   "source": [
    "import json\n",
    "from pyspark.sql import Row\n",
    "from pyspark.sql.functions import udf, from_json\n",
    "from pyspark.sql.types import StructType, StructField, StringType"
   ]
  },
  {
   "cell_type": "code",
   "execution_count": 2,
   "metadata": {},
   "outputs": [
    {
     "data": {
      "text/html": [
       "\n",
       "            <div>\n",
       "                <p><b>SparkSession - hive</b></p>\n",
       "                \n",
       "        <div>\n",
       "            <p><b>SparkContext</b></p>\n",
       "\n",
       "            <p><a href=\"http://172.18.0.6:4040\">Spark UI</a></p>\n",
       "\n",
       "            <dl>\n",
       "              <dt>Version</dt>\n",
       "                <dd><code>v2.2.0</code></dd>\n",
       "              <dt>Master</dt>\n",
       "                <dd><code>local[*]</code></dd>\n",
       "              <dt>AppName</dt>\n",
       "                <dd><code>PySparkShell</code></dd>\n",
       "            </dl>\n",
       "        </div>\n",
       "        \n",
       "            </div>\n",
       "        "
      ],
      "text/plain": [
       "<pyspark.sql.session.SparkSession at 0x7f2b23bf46a0>"
      ]
     },
     "execution_count": 2,
     "metadata": {},
     "output_type": "execute_result"
    }
   ],
   "source": [
    "spark"
   ]
  },
  {
   "cell_type": "code",
   "execution_count": 22,
   "metadata": {},
   "outputs": [
    {
     "data": {
      "text/html": [
       "\n",
       "        <div>\n",
       "            <p><b>SparkContext</b></p>\n",
       "\n",
       "            <p><a href=\"http://172.18.0.6:4040\">Spark UI</a></p>\n",
       "\n",
       "            <dl>\n",
       "              <dt>Version</dt>\n",
       "                <dd><code>v2.2.0</code></dd>\n",
       "              <dt>Master</dt>\n",
       "                <dd><code>local[*]</code></dd>\n",
       "              <dt>AppName</dt>\n",
       "                <dd><code>PySparkShell</code></dd>\n",
       "            </dl>\n",
       "        </div>\n",
       "        "
      ],
      "text/plain": [
       "<SparkContext master=local[*] appName=PySparkShell>"
      ]
     },
     "execution_count": 22,
     "metadata": {},
     "output_type": "execute_result"
    }
   ],
   "source": [
    "sc"
   ]
  },
  {
   "cell_type": "markdown",
   "metadata": {},
   "source": [
    "## Batch Mode\n",
    "Week 12 Content <br>\n",
    "Batching is a collection of data points that are grouped together at one point in time."
   ]
  },
  {
   "cell_type": "code",
   "execution_count": 52,
   "metadata": {
    "collapsed": true
   },
   "outputs": [],
   "source": [
    "#create udf\n",
    "\n",
    "@udf('boolean')\n",
    "def is_purchase(event_as_json):\n",
    "    event = json.loads(event_as_json)\n",
    "    if event['event_type'] == 'purchase_sword':\n",
    "        return True\n",
    "    return False"
   ]
  },
  {
   "cell_type": "code",
   "execution_count": 53,
   "metadata": {
    "collapsed": true
   },
   "outputs": [],
   "source": [
    "#create raw events df\n",
    "\n",
    "raw_events = spark \\\n",
    "        .read \\\n",
    "        .format(\"kafka\") \\\n",
    "        .option(\"kafka.bootstrap.servers\", \"kafka:29092\") \\\n",
    "        .option(\"subscribe\", \"events\") \\\n",
    "        .option(\"startingOffsets\", \"earliest\") \\\n",
    "        .option(\"endingOffsets\", \"latest\") \\\n",
    "        .load()"
   ]
  },
  {
   "cell_type": "code",
   "execution_count": 54,
   "metadata": {},
   "outputs": [
    {
     "name": "stdout",
     "output_type": "stream",
     "text": [
      "+----+--------------------+------+---------+------+--------------------+-------------+\n",
      "| key|               value| topic|partition|offset|           timestamp|timestampType|\n",
      "+----+--------------------+------+---------+------+--------------------+-------------+\n",
      "|null|[7B 22 48 6F 73 7...|events|        0|     0|2021-08-03 06:48:...|            0|\n",
      "|null|[7B 22 48 6F 73 7...|events|        0|     1|2021-08-03 06:48:...|            0|\n",
      "|null|[7B 22 48 6F 73 7...|events|        0|     2|2021-08-03 06:48:...|            0|\n",
      "|null|[7B 22 48 6F 73 7...|events|        0|     3|2021-08-03 06:48:...|            0|\n",
      "|null|[7B 22 48 6F 73 7...|events|        0|     4|2021-08-03 06:48:...|            0|\n",
      "|null|[7B 22 48 6F 73 7...|events|        0|     5|2021-08-03 06:48:...|            0|\n",
      "|null|[7B 22 48 6F 73 7...|events|        0|     6|2021-08-03 06:48:...|            0|\n",
      "|null|[7B 22 48 6F 73 7...|events|        0|     7|2021-08-03 06:48:...|            0|\n",
      "|null|[7B 22 48 6F 73 7...|events|        0|     8|2021-08-03 06:48:...|            0|\n",
      "|null|[7B 22 48 6F 73 7...|events|        0|     9|2021-08-03 06:48:...|            0|\n",
      "|null|[7B 22 48 6F 73 7...|events|        0|    10|2021-08-03 06:48:...|            0|\n",
      "|null|[7B 22 48 6F 73 7...|events|        0|    11|2021-08-03 06:48:...|            0|\n",
      "|null|[7B 22 48 6F 73 7...|events|        0|    12|2021-08-03 06:48:...|            0|\n",
      "|null|[7B 22 48 6F 73 7...|events|        0|    13|2021-08-03 06:48:...|            0|\n",
      "|null|[7B 22 48 6F 73 7...|events|        0|    14|2021-08-03 06:48:...|            0|\n",
      "|null|[7B 22 48 6F 73 7...|events|        0|    15|2021-08-03 06:48:...|            0|\n",
      "|null|[7B 22 48 6F 73 7...|events|        0|    16|2021-08-03 06:48:...|            0|\n",
      "|null|[7B 22 48 6F 73 7...|events|        0|    17|2021-08-03 06:48:...|            0|\n",
      "|null|[7B 22 48 6F 73 7...|events|        0|    18|2021-08-03 06:48:...|            0|\n",
      "|null|[7B 22 48 6F 73 7...|events|        0|    19|2021-08-03 06:48:...|            0|\n",
      "+----+--------------------+------+---------+------+--------------------+-------------+\n",
      "only showing top 20 rows\n",
      "\n"
     ]
    }
   ],
   "source": [
    "#print raw_events\n",
    "\n",
    "raw_events.show()"
   ]
  },
  {
   "cell_type": "code",
   "execution_count": 25,
   "metadata": {
    "collapsed": true
   },
   "outputs": [],
   "source": [
    "#create df pruchase_events\n",
    "\n",
    "purchase_events = raw_events \\\n",
    "        .select(raw_events.value.cast('string').alias('raw'),\n",
    "                raw_events.timestamp.cast('string')) \\\n",
    "        .filter(is_purchase('raw'))"
   ]
  },
  {
   "cell_type": "code",
   "execution_count": 26,
   "metadata": {
    "collapsed": true
   },
   "outputs": [],
   "source": [
    "#extract purchase events to dataframe\n",
    "\n",
    "extracted_purchase_events = purchase_events \\\n",
    "        .rdd \\\n",
    "        .map(lambda r: Row(timestamp=r.timestamp, **json.loads(r.raw))) \\\n",
    "        .toDF()"
   ]
  },
  {
   "cell_type": "code",
   "execution_count": 27,
   "metadata": {},
   "outputs": [
    {
     "name": "stdout",
     "output_type": "stream",
     "text": [
      "root\n",
      " |-- Accept: string (nullable = true)\n",
      " |-- Host: string (nullable = true)\n",
      " |-- User-Agent: string (nullable = true)\n",
      " |-- event_type: string (nullable = true)\n",
      " |-- sword_size: string (nullable = true)\n",
      " |-- timestamp: string (nullable = true)\n",
      "\n"
     ]
    }
   ],
   "source": [
    "#print df summary\n",
    "\n",
    "extracted_purchase_events.printSchema()"
   ]
  },
  {
   "cell_type": "code",
   "execution_count": 28,
   "metadata": {},
   "outputs": [
    {
     "name": "stdout",
     "output_type": "stream",
     "text": [
      "+------+-----------------+---------------+--------------+----------+--------------------+\n",
      "|Accept|             Host|     User-Agent|    event_type|sword_size|           timestamp|\n",
      "+------+-----------------+---------------+--------------+----------+--------------------+\n",
      "|   */*|user1.comcast.com|ApacheBench/2.3|purchase_sword|     large|2021-08-03 06:48:...|\n",
      "|   */*|user1.comcast.com|ApacheBench/2.3|purchase_sword|     large|2021-08-03 06:48:...|\n",
      "|   */*|user1.comcast.com|ApacheBench/2.3|purchase_sword|     large|2021-08-03 06:48:...|\n",
      "|   */*|user1.comcast.com|ApacheBench/2.3|purchase_sword|     large|2021-08-03 06:48:...|\n",
      "|   */*|user1.comcast.com|ApacheBench/2.3|purchase_sword|     large|2021-08-03 06:48:...|\n",
      "|   */*|user1.comcast.com|ApacheBench/2.3|purchase_sword|     large|2021-08-03 06:48:...|\n",
      "|   */*|user1.comcast.com|ApacheBench/2.3|purchase_sword|     large|2021-08-03 06:48:...|\n",
      "|   */*|user1.comcast.com|ApacheBench/2.3|purchase_sword|     large|2021-08-03 06:48:...|\n",
      "|   */*|user1.comcast.com|ApacheBench/2.3|purchase_sword|     large|2021-08-03 06:48:...|\n",
      "|   */*|user1.comcast.com|ApacheBench/2.3|purchase_sword|     large|2021-08-03 06:48:...|\n",
      "|   */*|user1.comcast.com|ApacheBench/2.3|purchase_sword|     large|2021-08-03 06:48:...|\n",
      "|   */*|user1.comcast.com|ApacheBench/2.3|purchase_sword|     large|2021-08-03 06:48:...|\n",
      "|   */*|user1.comcast.com|ApacheBench/2.3|purchase_sword|     large|2021-08-03 06:48:...|\n",
      "|   */*|user1.comcast.com|ApacheBench/2.3|purchase_sword|     large|2021-08-03 06:48:...|\n",
      "|   */*|user1.comcast.com|ApacheBench/2.3|purchase_sword|     large|2021-08-03 06:48:...|\n",
      "|   */*|user1.comcast.com|ApacheBench/2.3|purchase_sword|     large|2021-08-03 06:48:...|\n",
      "|   */*|user1.comcast.com|ApacheBench/2.3|purchase_sword|     large|2021-08-03 06:48:...|\n",
      "|   */*|user1.comcast.com|ApacheBench/2.3|purchase_sword|     large|2021-08-03 06:48:...|\n",
      "|   */*|user1.comcast.com|ApacheBench/2.3|purchase_sword|     large|2021-08-03 06:48:...|\n",
      "|   */*|user1.comcast.com|ApacheBench/2.3|purchase_sword|     large|2021-08-03 06:48:...|\n",
      "+------+-----------------+---------------+--------------+----------+--------------------+\n",
      "only showing top 20 rows\n",
      "\n"
     ]
    }
   ],
   "source": [
    "#print some rows of extracted_purchase_events\n",
    "\n",
    "extracted_purchase_events.show()"
   ]
  },
  {
   "cell_type": "code",
   "execution_count": 29,
   "metadata": {
    "collapsed": true
   },
   "outputs": [],
   "source": [
    "#write purchases to parquet\n",
    "\n",
    "extracted_purchase_events \\\n",
    "        .write \\\n",
    "        .mode('overwrite') \\\n",
    "        .parquet('/tmp/purchases')"
   ]
  },
  {
   "cell_type": "code",
   "execution_count": 30,
   "metadata": {
    "collapsed": true
   },
   "outputs": [],
   "source": [
    "#read purchases parquet\n",
    "\n",
    "purchases = spark.read.parquet('/tmp/purchases')"
   ]
  },
  {
   "cell_type": "code",
   "execution_count": 31,
   "metadata": {},
   "outputs": [
    {
     "name": "stdout",
     "output_type": "stream",
     "text": [
      "+------+-----------------+---------------+--------------+----------+--------------------+\n",
      "|Accept|             Host|     User-Agent|    event_type|sword_size|           timestamp|\n",
      "+------+-----------------+---------------+--------------+----------+--------------------+\n",
      "|   */*|user1.comcast.com|ApacheBench/2.3|purchase_sword|     large|2021-08-03 06:48:...|\n",
      "|   */*|user1.comcast.com|ApacheBench/2.3|purchase_sword|     large|2021-08-03 06:48:...|\n",
      "|   */*|user1.comcast.com|ApacheBench/2.3|purchase_sword|     large|2021-08-03 06:48:...|\n",
      "|   */*|user1.comcast.com|ApacheBench/2.3|purchase_sword|     large|2021-08-03 06:48:...|\n",
      "|   */*|user1.comcast.com|ApacheBench/2.3|purchase_sword|     large|2021-08-03 06:48:...|\n",
      "|   */*|user1.comcast.com|ApacheBench/2.3|purchase_sword|     large|2021-08-03 06:48:...|\n",
      "|   */*|user1.comcast.com|ApacheBench/2.3|purchase_sword|     large|2021-08-03 06:48:...|\n",
      "|   */*|user1.comcast.com|ApacheBench/2.3|purchase_sword|     large|2021-08-03 06:48:...|\n",
      "|   */*|user1.comcast.com|ApacheBench/2.3|purchase_sword|     large|2021-08-03 06:48:...|\n",
      "|   */*|user1.comcast.com|ApacheBench/2.3|purchase_sword|     large|2021-08-03 06:48:...|\n",
      "|   */*|user1.comcast.com|ApacheBench/2.3|purchase_sword|     large|2021-08-03 06:48:...|\n",
      "|   */*|user1.comcast.com|ApacheBench/2.3|purchase_sword|     large|2021-08-03 06:48:...|\n",
      "|   */*|user1.comcast.com|ApacheBench/2.3|purchase_sword|     large|2021-08-03 06:48:...|\n",
      "|   */*|user1.comcast.com|ApacheBench/2.3|purchase_sword|     large|2021-08-03 06:48:...|\n",
      "|   */*|user1.comcast.com|ApacheBench/2.3|purchase_sword|     large|2021-08-03 06:48:...|\n",
      "|   */*|user1.comcast.com|ApacheBench/2.3|purchase_sword|     large|2021-08-03 06:48:...|\n",
      "|   */*|user1.comcast.com|ApacheBench/2.3|purchase_sword|     large|2021-08-03 06:48:...|\n",
      "|   */*|user1.comcast.com|ApacheBench/2.3|purchase_sword|     large|2021-08-03 06:48:...|\n",
      "|   */*|user1.comcast.com|ApacheBench/2.3|purchase_sword|     large|2021-08-03 06:48:...|\n",
      "|   */*|user1.comcast.com|ApacheBench/2.3|purchase_sword|     large|2021-08-03 06:48:...|\n",
      "+------+-----------------+---------------+--------------+----------+--------------------+\n",
      "only showing top 20 rows\n",
      "\n"
     ]
    }
   ],
   "source": [
    "#print purchases\n",
    "\n",
    "purchases.show()"
   ]
  },
  {
   "cell_type": "code",
   "execution_count": 32,
   "metadata": {
    "collapsed": true
   },
   "outputs": [],
   "source": [
    "#register purchases as a temporary table\n",
    "\n",
    "purchases.registerTempTable('purchases')"
   ]
  },
  {
   "cell_type": "code",
   "execution_count": 33,
   "metadata": {
    "collapsed": true
   },
   "outputs": [],
   "source": [
    "#query using spark sql\n",
    "\n",
    "purchases_by_example2 = spark.sql(\"select * from purchases where Host = 'user1.comcast.com'\")"
   ]
  },
  {
   "cell_type": "code",
   "execution_count": 34,
   "metadata": {},
   "outputs": [
    {
     "name": "stdout",
     "output_type": "stream",
     "text": [
      "+------+-----------------+---------------+--------------+----------+--------------------+\n",
      "|Accept|             Host|     User-Agent|    event_type|sword_size|           timestamp|\n",
      "+------+-----------------+---------------+--------------+----------+--------------------+\n",
      "|   */*|user1.comcast.com|ApacheBench/2.3|purchase_sword|     large|2021-08-03 06:48:...|\n",
      "|   */*|user1.comcast.com|ApacheBench/2.3|purchase_sword|     large|2021-08-03 06:48:...|\n",
      "|   */*|user1.comcast.com|ApacheBench/2.3|purchase_sword|     large|2021-08-03 06:48:...|\n",
      "|   */*|user1.comcast.com|ApacheBench/2.3|purchase_sword|     large|2021-08-03 06:48:...|\n",
      "|   */*|user1.comcast.com|ApacheBench/2.3|purchase_sword|     large|2021-08-03 06:48:...|\n",
      "|   */*|user1.comcast.com|ApacheBench/2.3|purchase_sword|     large|2021-08-03 06:48:...|\n",
      "|   */*|user1.comcast.com|ApacheBench/2.3|purchase_sword|     large|2021-08-03 06:48:...|\n",
      "|   */*|user1.comcast.com|ApacheBench/2.3|purchase_sword|     large|2021-08-03 06:48:...|\n",
      "|   */*|user1.comcast.com|ApacheBench/2.3|purchase_sword|     large|2021-08-03 06:48:...|\n",
      "|   */*|user1.comcast.com|ApacheBench/2.3|purchase_sword|     large|2021-08-03 06:48:...|\n",
      "|   */*|user1.comcast.com|ApacheBench/2.3|purchase_sword|     large|2021-08-03 06:48:...|\n",
      "|   */*|user1.comcast.com|ApacheBench/2.3|purchase_sword|     large|2021-08-03 06:48:...|\n",
      "|   */*|user1.comcast.com|ApacheBench/2.3|purchase_sword|     large|2021-08-03 06:48:...|\n",
      "|   */*|user1.comcast.com|ApacheBench/2.3|purchase_sword|     large|2021-08-03 06:48:...|\n",
      "|   */*|user1.comcast.com|ApacheBench/2.3|purchase_sword|     large|2021-08-03 06:48:...|\n",
      "|   */*|user1.comcast.com|ApacheBench/2.3|purchase_sword|     large|2021-08-03 06:48:...|\n",
      "|   */*|user1.comcast.com|ApacheBench/2.3|purchase_sword|     large|2021-08-03 06:48:...|\n",
      "|   */*|user1.comcast.com|ApacheBench/2.3|purchase_sword|     large|2021-08-03 06:48:...|\n",
      "|   */*|user1.comcast.com|ApacheBench/2.3|purchase_sword|     large|2021-08-03 06:48:...|\n",
      "|   */*|user1.comcast.com|ApacheBench/2.3|purchase_sword|     large|2021-08-03 06:48:...|\n",
      "+------+-----------------+---------------+--------------+----------+--------------------+\n",
      "only showing top 20 rows\n",
      "\n"
     ]
    }
   ],
   "source": [
    "#print the result\n",
    "\n",
    "purchases_by_example2.show()"
   ]
  },
  {
   "cell_type": "code",
   "execution_count": 35,
   "metadata": {
    "collapsed": true
   },
   "outputs": [],
   "source": [
    "#export to pandas dataframe\n",
    "\n",
    "df = purchases_by_example2.toPandas()"
   ]
  },
  {
   "cell_type": "code",
   "execution_count": 36,
   "metadata": {},
   "outputs": [
    {
     "data": {
      "text/html": [
       "<div>\n",
       "<style>\n",
       "    .dataframe thead tr:only-child th {\n",
       "        text-align: right;\n",
       "    }\n",
       "\n",
       "    .dataframe thead th {\n",
       "        text-align: left;\n",
       "    }\n",
       "\n",
       "    .dataframe tbody tr th {\n",
       "        vertical-align: top;\n",
       "    }\n",
       "</style>\n",
       "<table border=\"1\" class=\"dataframe\">\n",
       "  <thead>\n",
       "    <tr style=\"text-align: right;\">\n",
       "      <th></th>\n",
       "      <th>Accept</th>\n",
       "      <th>Host</th>\n",
       "      <th>User-Agent</th>\n",
       "      <th>event_type</th>\n",
       "      <th>sword_size</th>\n",
       "      <th>timestamp</th>\n",
       "    </tr>\n",
       "  </thead>\n",
       "  <tbody>\n",
       "    <tr>\n",
       "      <th>count</th>\n",
       "      <td>5440</td>\n",
       "      <td>5440</td>\n",
       "      <td>5440</td>\n",
       "      <td>5440</td>\n",
       "      <td>5440</td>\n",
       "      <td>5440</td>\n",
       "    </tr>\n",
       "    <tr>\n",
       "      <th>unique</th>\n",
       "      <td>1</td>\n",
       "      <td>1</td>\n",
       "      <td>1</td>\n",
       "      <td>1</td>\n",
       "      <td>1</td>\n",
       "      <td>5440</td>\n",
       "    </tr>\n",
       "    <tr>\n",
       "      <th>top</th>\n",
       "      <td>*/*</td>\n",
       "      <td>user1.comcast.com</td>\n",
       "      <td>ApacheBench/2.3</td>\n",
       "      <td>purchase_sword</td>\n",
       "      <td>large</td>\n",
       "      <td>2021-08-03 07:00:28.013</td>\n",
       "    </tr>\n",
       "    <tr>\n",
       "      <th>freq</th>\n",
       "      <td>5440</td>\n",
       "      <td>5440</td>\n",
       "      <td>5440</td>\n",
       "      <td>5440</td>\n",
       "      <td>5440</td>\n",
       "      <td>1</td>\n",
       "    </tr>\n",
       "  </tbody>\n",
       "</table>\n",
       "</div>"
      ],
      "text/plain": [
       "       Accept               Host       User-Agent      event_type sword_size  \\\n",
       "count    5440               5440             5440            5440       5440   \n",
       "unique      1                  1                1               1          1   \n",
       "top       */*  user1.comcast.com  ApacheBench/2.3  purchase_sword      large   \n",
       "freq     5440               5440             5440            5440       5440   \n",
       "\n",
       "                      timestamp  \n",
       "count                      5440  \n",
       "unique                     5440  \n",
       "top     2021-08-03 07:00:28.013  \n",
       "freq                          1  "
      ]
     },
     "execution_count": 36,
     "metadata": {},
     "output_type": "execute_result"
    }
   ],
   "source": [
    "#dataframe summary\n",
    "\n",
    "df.describe()"
   ]
  },
  {
   "cell_type": "markdown",
   "metadata": {
    "collapsed": true
   },
   "source": [
    "## Streaming Mode\n",
    "Week 13 content <br>\n",
    "Streaming mode happens when the data continuously populate"
   ]
  },
  {
   "cell_type": "code",
   "execution_count": 42,
   "metadata": {
    "collapsed": true
   },
   "outputs": [],
   "source": [
    "#create event schema, add sword size\n",
    "\n",
    "def purchase_sword_event_schema():\n",
    "    \"\"\"\n",
    "    root\n",
    "    |-- Accept: string (nullable = true)\n",
    "    |-- Host: string (nullable = true)\n",
    "    |-- User-Agent: string (nullable = true)\n",
    "    |-- event_type: string (nullable = true)\n",
    "    \"\"\"\n",
    "    return StructType([\n",
    "        StructField(\"Accept\", StringType(), True),\n",
    "        StructField(\"Host\", StringType(), True),\n",
    "        StructField(\"User-Agent\", StringType(), True),\n",
    "        StructField(\"event_type\", StringType(), True),\n",
    "        StructField(\"sword_size\", StringType(), True)\n",
    "    ])"
   ]
  },
  {
   "cell_type": "code",
   "execution_count": 43,
   "metadata": {
    "collapsed": true
   },
   "outputs": [],
   "source": [
    "#rerun same udf as above\n",
    "\n",
    "@udf('boolean')\n",
    "def is_sword_purchase(event_as_json):\n",
    "    \"\"\"udf for filtering events\n",
    "    \"\"\"\n",
    "    event = json.loads(event_as_json)\n",
    "    if event['event_type'] == 'purchase_sword':\n",
    "        return True\n",
    "    return False"
   ]
  },
  {
   "cell_type": "code",
   "execution_count": 47,
   "metadata": {
    "collapsed": true
   },
   "outputs": [],
   "source": [
    "#subscribe to topic, but special for streaming\n",
    "\n",
    "raw_events = spark \\\n",
    "        .readStream \\\n",
    "        .format(\"kafka\") \\\n",
    "        .option(\"kafka.bootstrap.servers\", \"kafka:29092\") \\\n",
    "        .option(\"subscribe\", \"events\") \\\n",
    "        .load()"
   ]
  },
  {
   "cell_type": "code",
   "execution_count": 48,
   "metadata": {
    "collapsed": true
   },
   "outputs": [],
   "source": [
    "#sword purchase event\n",
    "\n",
    "sword_purchases = raw_events \\\n",
    "    .filter(is_sword_purchase(raw_events.value.cast('string'))) \\\n",
    "    .select(raw_events.value.cast('string').alias('raw_event'),\n",
    "            raw_events.timestamp.cast('string'),\n",
    "            from_json(raw_events.value.cast('string'),\n",
    "                      purchase_sword_event_schema()).alias('json')) \\\n",
    "    .select('raw_event', 'timestamp', 'json.*')"
   ]
  },
  {
   "cell_type": "code",
   "execution_count": 49,
   "metadata": {
    "collapsed": true
   },
   "outputs": [],
   "source": [
    "#sink calls start so we don't need sinkawaitTermination, will run in background until stop\n",
    "\n",
    "sink = sword_purchases \\\n",
    "        .writeStream \\\n",
    "        .format(\"parquet\") \\\n",
    "        .option(\"checkpointLocation\", \"/tmp/checkpoints_for_sword_purchases\") \\\n",
    "        .option(\"path\", \"/tmp/sword_purchases\") \\\n",
    "        .trigger(processingTime=\"10 seconds\") \\\n",
    "        .start()"
   ]
  },
  {
   "cell_type": "code",
   "execution_count": 55,
   "metadata": {
    "collapsed": true
   },
   "outputs": [],
   "source": [
    "#stop the sink\n",
    "\n",
    "sink.stop()"
   ]
  },
  {
   "cell_type": "code",
   "execution_count": null,
   "metadata": {
    "collapsed": true
   },
   "outputs": [],
   "source": []
  },
  {
   "cell_type": "code",
   "execution_count": null,
   "metadata": {
    "collapsed": true
   },
   "outputs": [],
   "source": []
  }
 ],
 "metadata": {
  "kernelspec": {
   "display_name": "Python 3",
   "language": "python",
   "name": "python3"
  },
  "language_info": {
   "codemirror_mode": {
    "name": "ipython",
    "version": 3
   },
   "file_extension": ".py",
   "mimetype": "text/x-python",
   "name": "python",
   "nbconvert_exporter": "python",
   "pygments_lexer": "ipython3",
   "version": "3.6.1"
  }
 },
 "nbformat": 4,
 "nbformat_minor": 2
}
